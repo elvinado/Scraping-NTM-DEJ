{
 "cells": [
  {
   "cell_type": "markdown",
   "metadata": {},
   "source": [
    "# Extract data from Notice To Mariners\n",
    "### Objective: Get coordinates of points from pdf documents published in __www.marine.gov.my__ website\n",
    "### Target dataset: Coordinates of published **oil & gas** operation within **Sarawak** Waters in year **2019**\n",
    "### Steps are as follows\n",
    "1. Load the website\n",
    "2. Find all links with PDF\n",
    "3. Download all the PDF\n",
    "4. Convert all PDF to text\n",
    "5. Find Coordinate information in the text\n",
    "6. Aggregate collection data into table\n",
    "7. Draw maps of current activities in the vicinity of our company's operations"
   ]
  },
  {
   "cell_type": "code",
   "execution_count": 1,
   "metadata": {},
   "outputs": [],
   "source": [
    "import requests\n",
    "import time\n",
    "from bs4 import BeautifulSoup"
   ]
  },
  {
   "cell_type": "markdown",
   "metadata": {},
   "source": [
    "### Using a plain simple __BeautifulSoup__ and __Request__ to download the pdfs\n",
    "__Beautiful Soup__ is a Python library for pulling data out of HTML and XML files.\n",
    "\n",
    "__Requests__ is an elegant and simple HTTP library for Python, built for human beings."
   ]
  },
  {
   "cell_type": "code",
   "execution_count": 2,
   "metadata": {},
   "outputs": [],
   "source": [
    "main_url = 'http://www.marine.gov.my/jlmv4/ms/notis/pelaut'"
   ]
  },
  {
   "cell_type": "code",
   "execution_count": 3,
   "metadata": {},
   "outputs": [],
   "source": [
    "response = requests.get(main_url)\n",
    "soup = BeautifulSoup(response.text, 'lxml')"
   ]
  },
  {
   "cell_type": "markdown",
   "metadata": {},
   "source": [
    "### With this simple approach, we only able to get 20 documents in year 2019 from all Malaysia and regardless of industry"
   ]
  },
  {
   "cell_type": "code",
   "execution_count": 4,
   "metadata": {},
   "outputs": [
    {
     "name": "stdout",
     "output_type": "stream",
     "text": [
      "1 Amendment To Beacon Height, Sarawak Waters------------------------------------------------------------------------------: http://www.marine.gov.my/jlmv4/sites/default/files/NTMSRK1242019.pdf\n",
      "2 New Position For Tok Bali Fairway Buoy Kelantan Waters------------------------------------------------------------------: http://www.marine.gov.my/jlmv4/sites/default/files/NTM1562019.pdf\n",
      "3 Site Survey And Soil Boring Malacca Straits-----------------------------------------------------------------------------: http://www.marine.gov.my/jlmv4/sites/default/files/NTM1572019.pdf\n",
      "4 Anchorage Buoy 2, Sarawak River - Collapsed-----------------------------------------------------------------------------: http://www.marine.gov.my/jlmv4/sites/default/files/NTMSRK1232019.pdf\n",
      "5 Notice Of Transportation Vessel And Pipeline Pull In – Posh Defender And MMA Prestige To D18 Field, Offshore Sarawak----: http://www.marine.gov.my/jlmv4/sites/default/files/NTMSRK1222019.pdf\n",
      "6 Sungai Kuantan Wreck Buoy Off Station Kuantan, Pahang-------------------------------------------------------------------: http://www.marine.gov.my/jlmv4/sites/default/files/NTM1552019.pdf\n",
      "7 Pelampung Pandu Arah (Starboard Hand Lateral Mark) G.F1(2)G.5s No.2 Bagan Datuk-----------------------------------------: http://www.marine.gov.my/jlmv4/sites/default/files/PCN262019.pdf\n",
      "8 Naga-6 Jack-Up Rig Move From Labuan (T16) To TTJT-A Location, Offshore Sarawak------------------------------------------: http://www.marine.gov.my/jlmv4/sites/default/files/NTMSBH232019.pdf\n",
      "9 DSV Sapura Jane Diving And Rov Underwater Inspection In Sarawak Waters--------------------------------------------------: http://www.marine.gov.my/jlmv4/sites/default/files/NTMSRK12022019.pdf\n",
      "10 The Installation Operation Of Floating Production, Storage And Offloading (FPSO) In Block SK10, Offshore Sarawak--------: http://www.marine.gov.my/jlmv4/sites/default/files/NTMSRK1212019.pdf\n",
      "11 Relocation Of Wellhead Facilities From Ophir Oilfield To Jitang Oilfield Offshore Terengganu----------------------------: http://www.marine.gov.my/jlmv4/sites/default/files/NTM1542019.pdf\n",
      "12 Remotely Operated Vehicles (ROVs) Testing In Sabah Water----------------------------------------------------------------: http://www.marine.gov.my/jlmv4/sites/default/files/NTMSBH212019.pdf\n",
      "13 Corrigendum To NTM 12(T) 2019-------------------------------------------------------------------------------------------: http://www.marine.gov.my/jlmv4/sites/default/files/NTMSBH222019.pdf\n",
      "14 Geohazard Site Survey Investigation, Offshore Sarawak-------------------------------------------------------------------: http://www.marine.gov.my/jlmv4/sites/default/files/NTMSRK1192019.pdf\n",
      "15 Notice Of Rig Mobilization And SK408 Drilling Campaign In Sarawak Waters------------------------------------------------: http://www.marine.gov.my/jlmv4/sites/default/files/NTMSRK1152019.pdf\n",
      "16 F6 Brownfield Integrated Module Installation For SK408 Gorek Development Project, Offshore Sarawak----------------------: http://www.marine.gov.my/jlmv4/sites/default/files/NTMSRK1162019.pdf\n",
      "17 Pipeline Installation For SK408 Gorek Development Project Between Gorek And F6, Offshore Sarawak------------------------: http://www.marine.gov.my/jlmv4/sites/default/files/NTMSRK1172019.pdf\n",
      "18 Tanjung Bako WK Beacon – Collapsed--------------------------------------------------------------------------------------: http://www.marine.gov.my/jlmv4/sites/default/files/NTMSRK1182019.pdf\n",
      "19 Amend Light Characteristic, Sarawak Waters------------------------------------------------------------------------------: http://www.marine.gov.my/jlmv4/sites/default/files/NTMSRK1132019.pdf\n",
      "20 Amendment To Sarawak Ntm 112/2019(T) - Notice Of Naga-6 Jack Up Rig Move From Labuan (T16) To TTJT-A Location, Offshore : http://www.marine.gov.my/jlmv4/sites/default/files/NTMSRK1142019.pdf\n"
     ]
    }
   ],
   "source": [
    "for i,a in enumerate(soup.select(\"a[href*='2019']\")):\n",
    "    print(f\"{i+1} {a.text[:120]}{'-'*(120-len(a.text))}: {a['href']}\")"
   ]
  },
  {
   "cell_type": "markdown",
   "metadata": {},
   "source": [
    "### We need to use __Selenium__ to get all the pdf for 2019 because __www.marine.gov.my__ is a dynamic website.\n",
    "__Selenium__ automates browsers. Especially useful for dynamically loaded websites."
   ]
  },
  {
   "cell_type": "markdown",
   "metadata": {},
   "source": [
    "What I know about the website from browsing it manually:\n",
    "1. There is a drop down to select the region (in my case I select 'Wilayah Sarawak').\n",
    "2. There is a drop down to select how many documents shown in one page (here I select 60).\n",
    "3. To covers all 2019 documents, I need to get to page 2.\n",
    "4. All of the above are dynamically loaded when selected."
   ]
  },
  {
   "cell_type": "code",
   "execution_count": 5,
   "metadata": {},
   "outputs": [],
   "source": [
    "from selenium import webdriver\n",
    "driver = webdriver.Chrome(\"../Chromedriver/chromedriver.exe\")\n",
    "driver.set_window_position(-2560,0)\n",
    "driver.set_window_size(1280,1440)\n",
    "# open browser and go the url\n",
    "driver.get(main_url)\n",
    "# Select Wilayah Sarawak from the drop down\n",
    "driver.find_element_by_xpath(f\"//*[@id='edit-field-notis-header-tid']/option[3]\").click()\n",
    "time.sleep(3)\n",
    "# Select 60 items per page frp, the drop down\n",
    "driver.find_element_by_xpath(f\"//*[@id='edit-items-per-page']/option[5]\").click()\n",
    "time.sleep(3)\n",
    "soup1 = BeautifulSoup(driver.page_source, 'lxml')"
   ]
  },
  {
   "cell_type": "markdown",
   "metadata": {},
   "source": [
    "### This time we get 59 documents indentified to be in 2019"
   ]
  },
  {
   "cell_type": "code",
   "execution_count": 6,
   "metadata": {},
   "outputs": [
    {
     "name": "stdout",
     "output_type": "stream",
     "text": [
      "1 Amendment To Beacon Height, Sarawak Waters------------------------------------------------------------------------------: http://www.marine.gov.my/jlmv4/sites/default/files/NTMSRK1242019.pdf\n",
      "2 Anchorage Buoy 2, Sarawak River - Collapsed-----------------------------------------------------------------------------: http://www.marine.gov.my/jlmv4/sites/default/files/NTMSRK1232019.pdf\n",
      "3 Notice Of Transportation Vessel And Pipeline Pull In – Posh Defender And MMA Prestige To D18 Field, Offshore Sarawak----: http://www.marine.gov.my/jlmv4/sites/default/files/NTMSRK1222019.pdf\n",
      "4 The Installation Operation Of Floating Production, Storage And Offloading (FPSO) In Block SK10, Offshore Sarawak--------: http://www.marine.gov.my/jlmv4/sites/default/files/NTMSRK1212019.pdf\n",
      "5 DSV Sapura Jane Diving And Rov Underwater Inspection In Sarawak Waters--------------------------------------------------: http://www.marine.gov.my/jlmv4/sites/default/files/NTMSRK12022019.pdf\n",
      "6 Geohazard Site Survey Investigation, Offshore Sarawak-------------------------------------------------------------------: http://www.marine.gov.my/jlmv4/sites/default/files/NTMSRK1192019.pdf\n",
      "7 Tanjung Bako WK Beacon – Collapsed--------------------------------------------------------------------------------------: http://www.marine.gov.my/jlmv4/sites/default/files/NTMSRK1182019.pdf\n",
      "8 Pipeline Installation For SK408 Gorek Development Project Between Gorek And F6, Offshore Sarawak------------------------: http://www.marine.gov.my/jlmv4/sites/default/files/NTMSRK1172019.pdf\n",
      "9 F6 Brownfield Integrated Module Installation For SK408 Gorek Development Project, Offshore Sarawak----------------------: http://www.marine.gov.my/jlmv4/sites/default/files/NTMSRK1162019.pdf\n",
      "10 Notice Of Rig Mobilization And SK408 Drilling Campaign In Sarawak Waters------------------------------------------------: http://www.marine.gov.my/jlmv4/sites/default/files/NTMSRK1152019.pdf\n",
      "11 Amendment To Sarawak Ntm 112/2019(T) - Notice Of Naga-6 Jack Up Rig Move From Labuan (T16) To TTJT-A Location, Offshore : http://www.marine.gov.my/jlmv4/sites/default/files/NTMSRK1142019.pdf\n",
      "12 Amend Light Characteristic, Sarawak Waters------------------------------------------------------------------------------: http://www.marine.gov.my/jlmv4/sites/default/files/NTMSRK1132019.pdf\n",
      "13 Notice Of Naga-6 Jack Up Rig Move From Labuan (T16) To Ttjt-A Location, Offshore Sarawak--------------------------------: http://www.marine.gov.my/jlmv4/sites/default/files/NTMSRK1122019.pdf\n",
      "14 Bokor Phase 3 Redevelopment Project: Notice To Mariner (NTM) Submission For Vessel Deep Orient Carrying Out Activities I: http://www.marine.gov.my/jlmv4/sites/default/files/NTMSRK1112019.pdf\n",
      "15 Bokor Phase 3 Redevelopment Project: Notice To Mariner (NTM) Submission For Vessel MMA Prestige Carrying Out Activities : http://www.marine.gov.my/jlmv4/sites/default/files/NTMSRK1102019.pdf\n",
      "16 D18 Phase 2 Development Project: Notice To Mariner (NTM) Submission For Vessel Mma Prestige Carrying Out Activities In O: http://www.marine.gov.my/jlmv4/sites/default/files/NTMSRK1092019.pdf\n",
      "17 Marine Controlled-Source Electromagnetic (CSEM) And Magnetotelluric (MT) Survey, Offshore Sabah-------------------------: http://www.marine.gov.my/jlmv4/sites/default/files/NTMSRK1082019.pdf\n",
      "18 Buoy T And Buoy D In South Access Channel, Bintulu Port Were Resumed In Operation---------------------------------------: http://www.marine.gov.my/jlmv4/sites/default/files/NTMSRK1072019.pdf\n",
      "19 Marine Geohazards Survey, Offshore Sarawak------------------------------------------------------------------------------: http://www.marine.gov.my/jlmv4/sites/default/files/NTMSRK1062019.pdf\n",
      "20 MV Executive Stride Geotechnical Investigation At Sk318 Rosmari And Marjoram Field, Offshore Sarawak--------------------: http://www.marine.gov.my/jlmv4/sites/default/files/NTMSRK1052019.pdf\n",
      "21 Ship Movement For Modification Works At Oil Rig For D18 Phase 2 Development Projects, Offshore Sarawak------------------: http://www.marine.gov.my/jlmv4/sites/default/files/NTMSRK1042019.pdf\n",
      "22 Outer Buoy Muara Lassa - Were Resumed In Operation----------------------------------------------------------------------: http://www.marine.gov.my/jlmv4/sites/default/files/NTMSRK1022019.pdf\n",
      "23 Transit Beacon Kuala Baram Permanently Withdrawn------------------------------------------------------------------------: http://www.marine.gov.my/jlmv4/sites/default/files/NTMSRK1012019.pdf\n",
      "24 Debris Collection At Seabed Of Tukau Timur Oil Rig For Bardegg-2 And Baronia Eor Development Projects, Offshore Sarawak-: http://www.marine.gov.my/jlmv4/sites/default/files/NTMSRK1002019.pdf\n",
      "25 TAD (Tender Assist Drilling Rig) SKD Esperanza Moving From Labuan Anchorage To F1 4DR-A, Offshore Sarawak---------------: http://www.marine.gov.my/jlmv4/sites/default/files/NTMSRK992019.pdf\n",
      "26 Notification Of Vessels Movement For Plug And Abandonment Activity For Saderi And Serai Decommissioning And Abandonment : http://www.marine.gov.my/jlmv4/sites/default/files/NTMSRK982019.pdf\n",
      "27 Buoy T And Buoy D In South Access Channel, Bintulu Port - Missing-------------------------------------------------------: http://www.marine.gov.my/jlmv4/sites/default/files/NTMSRK972019.pdf\n",
      "28 Corrigendum To NTM *46/2018 - The Transfer Of Batu Merpati Isolated Danger Mark Buoy, Tg Renard - Offshore Sarawak------: http://www.marine.gov.my/jlmv4/sites/default/files/NTMSRK962019.pdf\n",
      "29 Malaysia – Sarawak – Wrecks---------------------------------------------------------------------------------------------: http://www.marine.gov.my/jlmv4/sites/default/files/NTMSRK952019.pdf\n",
      "30 Offshore Mobilization For EIA Baseline Sampling, Offshore Sarawak-------------------------------------------------------: http://www.marine.gov.my/jlmv4/sites/default/files/NTMSRK942019.pdf\n",
      "31 Notice Of Naga-7 Jack Up Rig Move From ASB To TEDP-B Platform In Temana Field, Offshore Sarawak-------------------------: http://www.marine.gov.my/jlmv4/sites/default/files/NTMSRK932019.pdf\n",
      "32 SSR (Semi-Submersible Drilling Rig) Deep Water Nautilus Moving From Bolai To Saderi Location, Offshore Sarawak----------: http://www.marine.gov.my/jlmv4/sites/default/files/NTMSRK922019.pdf\n",
      "33 Notification Of Vessels Movement For The Installation Of Platform Substructure, Bridge, Pipelines And Composite Cables A: http://www.marine.gov.my/jlmv4/sites/default/files/902019%28T%29.pdf\n",
      "34 Rig Movement And Drilling Operations At Wl4-00 Block, Offshore Sarawak--------------------------------------------------: http://www.marine.gov.my/jlmv4/sites/default/files/892019%28T%29.pdf\n",
      "35 MCV Southern Ocean Installing Subsea Equipment At Gumusut-Kakap, Offshore Sabah-----------------------------------------: http://www.marine.gov.my/jlmv4/sites/default/files/882019%28T%29.pdf\n",
      "36 Offshore Well Plug And Abandonment Activities At West Lutong A Platform, Offshore Sarawak-------------------------------: http://www.marine.gov.my/jlmv4/sites/default/files/872019%28T%29.pdf\n",
      "37 Mobilization For Offshore Eia Sampling Work, Offshore Sarawak-----------------------------------------------------------: http://www.marine.gov.my/jlmv4/sites/default/files/862019%28T%29.pdf\n",
      "38 BOKOR Phase 3 Redevelopment Project: Notice To Mariners (NTM) Submission For Vessel Southern Star Carrying Out Activitie: http://www.marine.gov.my/jlmv4/sites/default/files/852019%28T%29.pdf\n",
      "39 Notice Of Rig Mobilization And SK408 Drilling Campaign In Sarawak Waters------------------------------------------------: http://www.marine.gov.my/jlmv4/sites/default/files/NTMSRK912019.pdf\n",
      "40 Notification Of Vessels Movement For The Installation Of Platform Substructure, Bridge, Pipelines And Composite Cables A: http://www.marine.gov.my/jlmv4/sites/default/files/NTMSRK902019.pdf\n",
      "41 Ship Movement For Repair Works And Replacement Of Pipes And Equipment At Tukau Timur Oil Rig For Bardegg-2 And Baronia E: http://www.marine.gov.my/jlmv4/sites/default/files/NTMSRK832019.pdf\n",
      "42 Notice Of Fixed Structure At SK408 Larak And Bakong Location, Offshore Sarawak------------------------------------------: http://www.marine.gov.my/jlmv4/sites/default/files/NTMSRK842019.pdf\n",
      "43 SSR (Semi-Submersible Drilling Rig) Deep Water Nautilus Moving From Jerangau Location To Bolai Location, Offshore Sarawa: http://www.marine.gov.my/jlmv4/sites/default/files/NTMSRK822019.pdf\n",
      "44 Notice Of Naga-7 Jack Up Rig Move From Asb To Tedp-B Platform In Temana Field, Offshore Sarawak-------------------------: http://www.marine.gov.my/jlmv4/sites/default/files/NTMSRK812019.pdf\n",
      "45 Structure Installation For SK408 Gorek Development Project, Offshore Sarawak--------------------------------------------: http://www.marine.gov.my/jlmv4/sites/default/files/NTMSRK802019.pdf\n",
      "46 Tender Assist Drilling Rig Mist On Tow From Singapore To Anjung Kecil Field, Offshore Sarawak---------------------------: http://www.marine.gov.my/jlmv4/sites/default/files/NTMSRK792019.pdf\n",
      "47 SSR (Semi-Submersible Drilling Rig) Deep Water Nautilus Moving From Gandarusa Location To Jerangau Location, Offshore Sa: http://www.marine.gov.my/jlmv4/sites/default/files/NTMSRK782019.pdf\n",
      "48 Beacon Song Kian Baru And Beacon Michelle - Missing---------------------------------------------------------------------: http://www.marine.gov.my/jlmv4/sites/default/files/NTMSRK772019.pdf\n",
      "49 Notification Of Vessels Movement For Transportation, Installation And Commissioning Activity (1st Champaign- 12” Pipelin: http://www.marine.gov.my/jlmv4/sites/default/files/NTMSRK722019.pdf\n",
      "50 The Drilling Activities At Bokor Platform (BODP-D, BODP-E And Bodp-F) For Bokor Phase 3 EOR And Betty Integrated Redevel: http://www.marine.gov.my/jlmv4/sites/default/files/NTMSRK732019.pdf\n",
      "51 Notification Of Vessels Movement For Drilling Activity For Exploration Wells At Gandarusa-1, Jerangau-1 And Bolai-1, Off: http://www.marine.gov.my/jlmv4/sites/default/files/NTMSRK742019.pdf\n",
      "52 Pan Malaysia Transportation And Installation Of Offshore Facilities Umbrella Contract At Sk408 Larak And Bakong, Offshor: http://www.marine.gov.my/jlmv4/sites/default/files/NTMSRK752019.pdf\n",
      "53 DP2 MCV Deep Orient Installing Subsea Equipment At Gumusut - Kakap, Offshore Sabah--------------------------------------: http://www.marine.gov.my/jlmv4/sites/default/files/NTMSRK762019.pdf\n",
      "54 Buoy No. 2, Kuala Baram, Miri – Were Resumed In Operation---------------------------------------------------------------: http://www.marine.gov.my/jlmv4/sites/default/files/NTMSRK712019.pdf\n",
      "55 Ship Movement For Repair Works And Replacement Of Pipes And Equipment At Tukau Timur Oil Rig For Bardegg-2 And Baronia E: http://www.marine.gov.my/jlmv4/sites/default/files/NTMSRK702019.pdf\n",
      "56 Marine Geotechnical Survey, Offshore Sarawak----------------------------------------------------------------------------: http://www.marine.gov.my/jlmv4/sites/default/files/NTMSRK692019.pdf\n",
      "57 Amendment To Sarawak NTM 49/2019(T) - Ship Movement For Repair Works And Replacement Of Pipes And Equipment At Bokor And: http://www.marine.gov.my/jlmv4/sites/default/files/NTMSRK682019.pdf\n",
      "58 Debris Survey At Bokor (BODP-D) Oil Rig For Integrated Redevelopment Projects Bokor Phase 3 Eor And Betty, Offshore Sara: http://www.marine.gov.my/jlmv4/sites/default/files/NTMSRK672019.pdf\n",
      "59 Gas Lift Systems Installation Activities At Medan Kikeh Development Projects, Within Exclusive Economic Zone (ZEE) Offsh: http://www.marine.gov.my/jlmv4/sites/default/files/NTMSRK662019.pdf\n"
     ]
    }
   ],
   "source": [
    "for i,a in enumerate(soup1.select(\"a[href*='2019']\")):\n",
    "    print(f\"{i+1} {a.text[:120]}{'-'*(120-len(a.text))}: {a['href']}\")"
   ]
  },
  {
   "cell_type": "markdown",
   "metadata": {},
   "source": [
    "### Now we filter them with appropriate keywords"
   ]
  },
  {
   "cell_type": "code",
   "execution_count": 7,
   "metadata": {},
   "outputs": [],
   "source": [
    "keywords = [\"oil\",\"drilling\",\"exploration\",\"field\",\"block\",\"geotechnical\",\"rig\"]\n",
    "links1 = []\n",
    "for i,a in enumerate(soup1.select(\"a[href*='2019']\")):\n",
    "    for kw in keywords:\n",
    "        if kw in a.get_text().lower():\n",
    "            links1.append(a)\n",
    "links1 = list(set(links1))"
   ]
  },
  {
   "cell_type": "markdown",
   "metadata": {},
   "source": [
    "### This time we get 27 documents after keywords filtering"
   ]
  },
  {
   "cell_type": "code",
   "execution_count": 8,
   "metadata": {},
   "outputs": [
    {
     "name": "stdout",
     "output_type": "stream",
     "text": [
      "1 Marine Geotechnical Survey, Offshore Sarawak----------------------------------------------------------------------------: http://www.marine.gov.my/jlmv4/sites/default/files/NTMSRK692019.pdf\n",
      "2 SSR (Semi-Submersible Drilling Rig) Deep Water Nautilus Moving From Bolai To Saderi Location, Offshore Sarawak----------: http://www.marine.gov.my/jlmv4/sites/default/files/NTMSRK922019.pdf\n",
      "3 Debris Survey At Bokor (BODP-D) Oil Rig For Integrated Redevelopment Projects Bokor Phase 3 Eor And Betty, Offshore Sara: http://www.marine.gov.my/jlmv4/sites/default/files/NTMSRK672019.pdf\n",
      "4 Ship Movement For Modification Works At Oil Rig For D18 Phase 2 Development Projects, Offshore Sarawak------------------: http://www.marine.gov.my/jlmv4/sites/default/files/NTMSRK1042019.pdf\n",
      "5 Notice Of Naga-7 Jack Up Rig Move From ASB To TEDP-B Platform In Temana Field, Offshore Sarawak-------------------------: http://www.marine.gov.my/jlmv4/sites/default/files/NTMSRK932019.pdf\n",
      "6 Notice Of Rig Mobilization And SK408 Drilling Campaign In Sarawak Waters------------------------------------------------: http://www.marine.gov.my/jlmv4/sites/default/files/NTMSRK1152019.pdf\n",
      "7 Amendment To Sarawak Ntm 112/2019(T) - Notice Of Naga-6 Jack Up Rig Move From Labuan (T16) To TTJT-A Location, Offshore : http://www.marine.gov.my/jlmv4/sites/default/files/NTMSRK1142019.pdf\n",
      "8 The Drilling Activities At Bokor Platform (BODP-D, BODP-E And Bodp-F) For Bokor Phase 3 EOR And Betty Integrated Redevel: http://www.marine.gov.my/jlmv4/sites/default/files/NTMSRK732019.pdf\n",
      "9 Amendment To Sarawak NTM 49/2019(T) - Ship Movement For Repair Works And Replacement Of Pipes And Equipment At Bokor And: http://www.marine.gov.my/jlmv4/sites/default/files/NTMSRK682019.pdf\n",
      "10 Notice Of Rig Mobilization And SK408 Drilling Campaign In Sarawak Waters------------------------------------------------: http://www.marine.gov.my/jlmv4/sites/default/files/NTMSRK912019.pdf\n",
      "11 Rig Movement And Drilling Operations At Wl4-00 Block, Offshore Sarawak--------------------------------------------------: http://www.marine.gov.my/jlmv4/sites/default/files/892019%28T%29.pdf\n",
      "12 Debris Collection At Seabed Of Tukau Timur Oil Rig For Bardegg-2 And Baronia Eor Development Projects, Offshore Sarawak-: http://www.marine.gov.my/jlmv4/sites/default/files/NTMSRK1002019.pdf\n",
      "13 SSR (Semi-Submersible Drilling Rig) Deep Water Nautilus Moving From Gandarusa Location To Jerangau Location, Offshore Sa: http://www.marine.gov.my/jlmv4/sites/default/files/NTMSRK782019.pdf\n",
      "14 Notification Of Vessels Movement For Transportation, Installation And Commissioning Activity (1st Champaign- 12” Pipelin: http://www.marine.gov.my/jlmv4/sites/default/files/NTMSRK722019.pdf\n",
      "15 Notification Of Vessels Movement For Drilling Activity For Exploration Wells At Gandarusa-1, Jerangau-1 And Bolai-1, Off: http://www.marine.gov.my/jlmv4/sites/default/files/NTMSRK742019.pdf\n",
      "16 TAD (Tender Assist Drilling Rig) SKD Esperanza Moving From Labuan Anchorage To F1 4DR-A, Offshore Sarawak---------------: http://www.marine.gov.my/jlmv4/sites/default/files/NTMSRK992019.pdf\n",
      "17 The Installation Operation Of Floating Production, Storage And Offloading (FPSO) In Block SK10, Offshore Sarawak--------: http://www.marine.gov.my/jlmv4/sites/default/files/NTMSRK1212019.pdf\n",
      "18 Ship Movement For Repair Works And Replacement Of Pipes And Equipment At Tukau Timur Oil Rig For Bardegg-2 And Baronia E: http://www.marine.gov.my/jlmv4/sites/default/files/NTMSRK832019.pdf\n",
      "19 MV Executive Stride Geotechnical Investigation At Sk318 Rosmari And Marjoram Field, Offshore Sarawak--------------------: http://www.marine.gov.my/jlmv4/sites/default/files/NTMSRK1052019.pdf\n",
      "20 Notice Of Transportation Vessel And Pipeline Pull In – Posh Defender And MMA Prestige To D18 Field, Offshore Sarawak----: http://www.marine.gov.my/jlmv4/sites/default/files/NTMSRK1222019.pdf\n",
      "21 Notice Of Naga-7 Jack Up Rig Move From Asb To Tedp-B Platform In Temana Field, Offshore Sarawak-------------------------: http://www.marine.gov.my/jlmv4/sites/default/files/NTMSRK812019.pdf\n",
      "22 Tender Assist Drilling Rig Mist On Tow From Singapore To Anjung Kecil Field, Offshore Sarawak---------------------------: http://www.marine.gov.my/jlmv4/sites/default/files/NTMSRK792019.pdf\n",
      "23 Ship Movement For Repair Works And Replacement Of Pipes And Equipment At Tukau Timur Oil Rig For Bardegg-2 And Baronia E: http://www.marine.gov.my/jlmv4/sites/default/files/NTMSRK702019.pdf\n",
      "24 F6 Brownfield Integrated Module Installation For SK408 Gorek Development Project, Offshore Sarawak----------------------: http://www.marine.gov.my/jlmv4/sites/default/files/NTMSRK1162019.pdf\n",
      "25 Notice Of Naga-6 Jack Up Rig Move From Labuan (T16) To Ttjt-A Location, Offshore Sarawak--------------------------------: http://www.marine.gov.my/jlmv4/sites/default/files/NTMSRK1122019.pdf\n",
      "26 Corrigendum To NTM *46/2018 - The Transfer Of Batu Merpati Isolated Danger Mark Buoy, Tg Renard - Offshore Sarawak------: http://www.marine.gov.my/jlmv4/sites/default/files/NTMSRK962019.pdf\n",
      "27 SSR (Semi-Submersible Drilling Rig) Deep Water Nautilus Moving From Jerangau Location To Bolai Location, Offshore Sarawa: http://www.marine.gov.my/jlmv4/sites/default/files/NTMSRK822019.pdf\n"
     ]
    }
   ],
   "source": [
    "for i,a in enumerate(links1):\n",
    "    print(f\"{i+1} {a.text[:120]}{'-'*(120-len(a.text))}: {a['href']}\")"
   ]
  },
  {
   "cell_type": "markdown",
   "metadata": {},
   "source": [
    "### Let's do the same for second page"
   ]
  },
  {
   "cell_type": "code",
   "execution_count": 9,
   "metadata": {},
   "outputs": [],
   "source": [
    "# second page\n",
    "driver.find_element_by_xpath(f\"//*[@id='block-system-main']/div/div[3]/ul/li[2]/a\").click()\n",
    "time.sleep(3)\n",
    "soup2 = BeautifulSoup(driver.page_source, 'lxml')\n",
    "#close the browser\n",
    "driver.close()"
   ]
  },
  {
   "cell_type": "markdown",
   "metadata": {},
   "source": [
    "### We get additional 27 documents that fit our criteria in the second page."
   ]
  },
  {
   "cell_type": "code",
   "execution_count": 10,
   "metadata": {},
   "outputs": [
    {
     "name": "stdout",
     "output_type": "stream",
     "text": [
      "1 Notification Of Perisai Pacific 101 (PP101) Jack-Up Rig Movement From Baronia Field (BNJT-K) To Johor-------------------: http://www.marine.gov.my/jlmv4/sites/default/files/NTMSRK632019.pdf\n",
      "2 TAD (Tender Assist Drilling Rig) SKD Esperanza Moving From Labuan Anchorage To F1 4DR-A Location, Offshore Sarawak------: http://www.marine.gov.my/jlmv4/sites/default/files/NTMSRK482019.pdf\n",
      "3 FPSO MTC Ledang Floating Hoses, On Tow From Bintulu (Sarawak) To Kayu Manis Oilfield, Offshore Sarawak------------------: http://www.marine.gov.my/jlmv4/sites/default/files/NPM312019(T).pdf\n",
      "4 Corrigendum To NTM 41/2019(T) - MPSV Nor Australis Installing Subsea Equipment At Gumusut - Kakap ( Phase 2 ), Offshore : http://www.marine.gov.my/jlmv4/sites/default/files/NTMSRK592019.pdf\n",
      "5 Notification Of Carrying Out Activities Involving Ships At Medan Merapuh, Block SK309, Within Exclusive Economic Zone Of: http://www.marine.gov.my/jlmv4/sites/default/files/NTMSRK652019.pdf\n",
      "6 Mooring Pile And Mooring Chain Laying At Block SK10, Offshore Sarawak---------------------------------------------------: http://www.marine.gov.my/jlmv4/sites/default/files/NTMSRK612019.pdf\n",
      "7 Notice Of Soil Boring Activities In Sarawak Waters----------------------------------------------------------------------: http://www.marine.gov.my/jlmv4/sites/default/files/NTMSRK542019.pdf\n",
      "8 Vessel Mobilization For Modification Of Works At D18MP-A, D18JT-B And D18JT-C Oil Rigs For D18 Phase 2 Development Proje: http://www.marine.gov.my/jlmv4/sites/default/files/NTMSRK372019.pdf\n",
      "9 Geotechnical Investigation Activities At Block SK10, Offshore Sarawak---------------------------------------------------: http://www.marine.gov.my/jlmv4/sites/default/files/NTMSRK092019.pdf\n",
      "10 The Movement Of Ships For The Installation Of Drilling Rigs At Bokor (BODP-D, Bodp-E & BODP-F) For Integrated Bokor Phas: http://www.marine.gov.my/jlmv4/sites/default/files/NPM342019(T).pdf\n",
      "11 The Movement Of Ships For The Topside Pre-Installation Survey Work At Anjung Field For Anjung Gas Development Projects, : http://www.marine.gov.my/jlmv4/sites/default/files/NTMSRK392019.pdf\n",
      "12 The Drilling Activities Of Lang Lebah-1 Redrill2 (LL-1 RDL2) Well At SK410B Block, Offshore Sarawak---------------------: http://www.marine.gov.my/jlmv4/sites/default/files/styles/NTMSRK132019.pdf\n",
      "13 SSR (Semi-Submersible Drilling Rig) Deep Water Nautilus Moving From Labuan To Gandarusa Location, Offshore Sarawak------: http://www.marine.gov.my/jlmv4/sites/default/files/NTMSRK472019.pdf\n",
      "14 Notification Mobilization Of Single Voyage PFLNG Satu From Kumang Oilfield, Offshore Sarawak To Kebabangan Oilfield, Off: http://www.marine.gov.my/jlmv4/sites/default/files/NTMSRK242019.pdf\n",
      "15 Notice Of Naga 3 Jack Up Rig Move From SCDR-A To Labuan Anchorage Location, Offshore Sarawak----------------------------: http://www.marine.gov.my/jlmv4/sites/default/files/NTMSRK112019.pdf\n",
      "16 Geophysical Survey (Debris Survey) At Anjung Kecil Oilfield, Block SK315, Offshore Sarawak------------------------------: http://www.marine.gov.my/jlmv4/sites/default/files/NTMSRK282019.pdf\n",
      "17 Ship Movement For Repair Works And Replacement Of Pipes And Equipment At Baronia-A And Baronia-B Oil Rig For Bardegg-2 A: http://www.marine.gov.my/jlmv4/sites/default/files/NTMSRK442019.pdf\n",
      "18 The Movement Of Offshore Mobile Drilling Rig Unit And Drilling Activities, Offshore Sarawak-----------------------------: http://www.marine.gov.my/jlmv4/sites/default/files/NPM332019(T).pdf\n",
      "19 Environmental Impact Assessment (EIA) Surveys At Block SK 309 And SK 311, Within Exclusive Economic Zone Offshore Sarawa: http://www.marine.gov.my/jlmv4/sites/default/files/NTMSRK452019.pdf\n",
      "20 Notice Of Pipeline Repairs At PL293 Within D35 Oil Field, Offshore Sarawak----------------------------------------------: http://www.marine.gov.my/jlmv4/sites/default/files/NTMSRK522019.pdf\n",
      "21 Amendment To Sarawak Ntm 47/2019(T) - SSR (Semi Submersible Drilling Rig) Deep Water Nautilus Moving From Labuan To Gand: http://www.marine.gov.my/jlmv4/sites/default/files/NTMSRK622019.pdf\n",
      "22 Vessel Movement For Pipe Pre-Installation Survey At D35r Oilfield, Offshore Sarawak-------------------------------------: http://www.marine.gov.my/jlmv4/sites/default/files/NPM322019(T).pdf\n",
      "23 Amendment To Sarawak NTM 34/2019(T) - The Movement Of Ships For The Installation Of Drilling Rigs At Bokor (BODP-D, BODP: http://www.marine.gov.my/jlmv4/sites/default/files/NTMSRK382019.pdf\n",
      "24 Ship Movement For Repair Works And Replacement Of Pipes And Equipment At Bokor And Betty Oil Rig For Integrated Redevelo: http://www.marine.gov.my/jlmv4/sites/default/files/NTMSRK492019.pdf\n",
      "25 Notice Of UMW Naga-5 Jack Up Rig Move From Johor Baharu To D18 Location, Offshore Sarawak-------------------------------: http://www.marine.gov.my/jlmv4/sites/default/files/NTMSRK582019.pdf\n",
      "26 High Resolution 3D Seismic Survey At Baram Field, Offshore Sarawak------------------------------------------------------: http://www.marine.gov.my/jlmv4/sites/default/files/NTMSRK102019.pdf\n",
      "27 Soil Boring Activities At Block Sk314a, Offshore Sarawak----------------------------------------------------------------: http://www.marine.gov.my/jlmv4/sites/default/files/NTMSRK192019.pdf\n"
     ]
    }
   ],
   "source": [
    "links2 = []\n",
    "for i,a in enumerate(soup2.select(\"a[href*='2019']\")):\n",
    "    for kw in keywords:\n",
    "        if kw in a.get_text().lower():\n",
    "            links2.append(a)\n",
    "links2 = list(set(links2))\n",
    "for i,a in enumerate(links2):\n",
    "    print(f\"{i+1} {a.text[:120]}{'-'*(120-len(a.text))}: {a['href']}\")"
   ]
  },
  {
   "cell_type": "markdown",
   "metadata": {},
   "source": [
    "### Merge page 1 and 2"
   ]
  },
  {
   "cell_type": "code",
   "execution_count": 11,
   "metadata": {},
   "outputs": [],
   "source": [
    "links = links1 + links2"
   ]
  },
  {
   "cell_type": "markdown",
   "metadata": {},
   "source": [
    "### Now we download the document to our local disk"
   ]
  },
  {
   "cell_type": "code",
   "execution_count": 12,
   "metadata": {},
   "outputs": [
    {
     "name": "stdout",
     "output_type": "stream",
     "text": [
      "0 Downloading... http://www.marine.gov.my/jlmv4/sites/default/files/NTMSRK692019.pdf\n",
      "1 Downloading... http://www.marine.gov.my/jlmv4/sites/default/files/NTMSRK922019.pdf\n",
      "2 Downloading... http://www.marine.gov.my/jlmv4/sites/default/files/NTMSRK672019.pdf\n",
      "3 Downloading... http://www.marine.gov.my/jlmv4/sites/default/files/NTMSRK1042019.pdf\n",
      "4 Downloading... http://www.marine.gov.my/jlmv4/sites/default/files/NTMSRK932019.pdf\n",
      "5 Downloading... http://www.marine.gov.my/jlmv4/sites/default/files/NTMSRK1152019.pdf\n",
      "6 Downloading... http://www.marine.gov.my/jlmv4/sites/default/files/NTMSRK1142019.pdf\n",
      "7 Downloading... http://www.marine.gov.my/jlmv4/sites/default/files/NTMSRK732019.pdf\n",
      "8 Downloading... http://www.marine.gov.my/jlmv4/sites/default/files/NTMSRK682019.pdf\n",
      "9 Downloading... http://www.marine.gov.my/jlmv4/sites/default/files/NTMSRK912019.pdf\n",
      "10 Downloading... http://www.marine.gov.my/jlmv4/sites/default/files/892019%28T%29.pdf\n",
      "11 Downloading... http://www.marine.gov.my/jlmv4/sites/default/files/NTMSRK1002019.pdf\n",
      "12 Downloading... http://www.marine.gov.my/jlmv4/sites/default/files/NTMSRK782019.pdf\n",
      "13 Downloading... http://www.marine.gov.my/jlmv4/sites/default/files/NTMSRK722019.pdf\n",
      "14 Downloading... http://www.marine.gov.my/jlmv4/sites/default/files/NTMSRK742019.pdf\n",
      "15 Downloading... http://www.marine.gov.my/jlmv4/sites/default/files/NTMSRK992019.pdf\n",
      "16 Downloading... http://www.marine.gov.my/jlmv4/sites/default/files/NTMSRK1212019.pdf\n",
      "17 Downloading... http://www.marine.gov.my/jlmv4/sites/default/files/NTMSRK832019.pdf\n",
      "18 Downloading... http://www.marine.gov.my/jlmv4/sites/default/files/NTMSRK1052019.pdf\n",
      "19 Downloading... http://www.marine.gov.my/jlmv4/sites/default/files/NTMSRK1222019.pdf\n",
      "20 Downloading... http://www.marine.gov.my/jlmv4/sites/default/files/NTMSRK812019.pdf\n",
      "21 Downloading... http://www.marine.gov.my/jlmv4/sites/default/files/NTMSRK792019.pdf\n",
      "22 Downloading... http://www.marine.gov.my/jlmv4/sites/default/files/NTMSRK702019.pdf\n",
      "23 Downloading... http://www.marine.gov.my/jlmv4/sites/default/files/NTMSRK1162019.pdf\n",
      "24 Downloading... http://www.marine.gov.my/jlmv4/sites/default/files/NTMSRK1122019.pdf\n",
      "25 Downloading... http://www.marine.gov.my/jlmv4/sites/default/files/NTMSRK962019.pdf\n",
      "26 Downloading... http://www.marine.gov.my/jlmv4/sites/default/files/NTMSRK822019.pdf\n",
      "27 Downloading... http://www.marine.gov.my/jlmv4/sites/default/files/NTMSRK632019.pdf\n",
      "28 Downloading... http://www.marine.gov.my/jlmv4/sites/default/files/NTMSRK482019.pdf\n",
      "29 Downloading... http://www.marine.gov.my/jlmv4/sites/default/files/NPM312019(T).pdf\n",
      "30 Downloading... http://www.marine.gov.my/jlmv4/sites/default/files/NTMSRK592019.pdf\n",
      "31 Downloading... http://www.marine.gov.my/jlmv4/sites/default/files/NTMSRK652019.pdf\n",
      "32 Downloading... http://www.marine.gov.my/jlmv4/sites/default/files/NTMSRK612019.pdf\n",
      "33 Downloading... http://www.marine.gov.my/jlmv4/sites/default/files/NTMSRK542019.pdf\n",
      "34 Downloading... http://www.marine.gov.my/jlmv4/sites/default/files/NTMSRK372019.pdf\n",
      "35 Downloading... http://www.marine.gov.my/jlmv4/sites/default/files/NTMSRK092019.pdf\n",
      "36 Downloading... http://www.marine.gov.my/jlmv4/sites/default/files/NPM342019(T).pdf\n",
      "37 Downloading... http://www.marine.gov.my/jlmv4/sites/default/files/NTMSRK392019.pdf\n",
      "38 Downloading... http://www.marine.gov.my/jlmv4/sites/default/files/styles/NTMSRK132019.pdf\n",
      "39 Downloading... http://www.marine.gov.my/jlmv4/sites/default/files/NTMSRK472019.pdf\n",
      "40 Downloading... http://www.marine.gov.my/jlmv4/sites/default/files/NTMSRK242019.pdf\n",
      "41 Downloading... http://www.marine.gov.my/jlmv4/sites/default/files/NTMSRK112019.pdf\n",
      "42 Downloading... http://www.marine.gov.my/jlmv4/sites/default/files/NTMSRK282019.pdf\n",
      "43 Downloading... http://www.marine.gov.my/jlmv4/sites/default/files/NTMSRK442019.pdf\n",
      "44 Downloading... http://www.marine.gov.my/jlmv4/sites/default/files/NPM332019(T).pdf\n",
      "45 Downloading... http://www.marine.gov.my/jlmv4/sites/default/files/NTMSRK452019.pdf\n",
      "46 Downloading... http://www.marine.gov.my/jlmv4/sites/default/files/NTMSRK522019.pdf\n",
      "47 Downloading... http://www.marine.gov.my/jlmv4/sites/default/files/NTMSRK622019.pdf\n",
      "48 Downloading... http://www.marine.gov.my/jlmv4/sites/default/files/NPM322019(T).pdf\n",
      "49 Downloading... http://www.marine.gov.my/jlmv4/sites/default/files/NTMSRK382019.pdf\n",
      "50 Downloading... http://www.marine.gov.my/jlmv4/sites/default/files/NTMSRK492019.pdf\n",
      "51 Downloading... http://www.marine.gov.my/jlmv4/sites/default/files/NTMSRK582019.pdf\n",
      "52 Downloading... http://www.marine.gov.my/jlmv4/sites/default/files/NTMSRK102019.pdf\n",
      "53 Downloading... http://www.marine.gov.my/jlmv4/sites/default/files/NTMSRK192019.pdf\n",
      "DONE!\n"
     ]
    }
   ],
   "source": [
    "for i,a in enumerate(links):\n",
    "    print(f\"{i} Downloading... {a['href']}\")\n",
    "    url = a['href']\n",
    "    r = requests.get(url, allow_redirects=True)\n",
    "    with open(f\"{url.split('/')[-1]}\", 'wb') as file:\n",
    "        file.write(r.content)\n",
    "    time.sleep(0.2)\n",
    "print(\"DONE!\")"
   ]
  },
  {
   "cell_type": "markdown",
   "metadata": {},
   "source": [
    "### Extract data from downloaded pdf"
   ]
  },
  {
   "cell_type": "code",
   "execution_count": 13,
   "metadata": {},
   "outputs": [],
   "source": [
    "import PyPDF2\n",
    "import re\n",
    "import pandas as pd\n",
    "import glob\n",
    "\n",
    "filenames = sorted(glob.glob(\"*.pdf\"))\n",
    "pat = \"\\s+([a-zA-Z0-9.,:\\-\\&\\(\\)\\s]{,40})\\s*(\\d+)°\\s?(\\d+|\\d+\\.\\d+)\\'\\s?(\\d+\\.\\d+|\\d+)?\\\"?\\s*([NnEe]?)\\s*(\\d+)°\\s?(\\d+|\\d+\\.\\d+)\\'\\s?(\\d+\\.\\d+|\\d+)?\\\"?\\s*([NnEe]?)\"\n",
    "#pat = \"\\s+([a-zA-Z0-9.,:\\-\\&\\(\\)\\s]{,40})\\s*(\\d+)°\\s?(\\d+|\\d+\\.\\d+)[\\'’]\\s?(\\d+\\.\\d+|\\d+)?\\\"?\\s*([NnEe]?)\\s*(\\d+)°\\s?(\\d+|\\d+\\.\\d+)[\\'’]\\s?(\\d+\\.\\d+|\\d+)?\\\"?\\s*([NnEe]?)\"\n",
    "#dms_pattern = \"\\s*\\t{3}(\\s?[a-zA-Z0-9\\-\\&\\(\\):]+)\\t{3}\\s*?(\\d+)°\\s?(\\d+)\\'\\s?(\\d*\\.?\\d*)\\s*\\\"\\s*([NnEe]?)\\s+(\\d+)°\\s?(\\d+)\\'\\s?(\\d*\\.?\\d*)\\s*\\\"\\s*([NnEe]?)\""
   ]
  },
  {
   "cell_type": "code",
   "execution_count": 14,
   "metadata": {},
   "outputs": [
    {
     "name": "stdout",
     "output_type": "stream",
     "text": [
      "NPM342019(T).pdf  document has no Coordinates\n",
      "NTMSRK1042019.pdf  document has no Coordinates\n",
      "NTMSRK1152019.pdf  document has no Coordinates\n",
      "NTMSRK282019.pdf  document has no Coordinates\n",
      "NTMSRK382019.pdf  document has no Coordinates\n",
      "NTMSRK582019.pdf  document has no Coordinates\n",
      "NTMSRK622019.pdf  document has no Coordinates\n",
      "NTMSRK682019.pdf  document has no Coordinates\n",
      "NTMSRK962019.pdf  document has no Coordinates\n"
     ]
    }
   ],
   "source": [
    "columns = [\"Name\",\"DegY\",\"MinY\",\"SecY\",\"SymY\",\"DegX\",\"MinX\",\"SecX\",\"SymX\",\"DocName\",\"Page\"]\n",
    "df = pd.DataFrame(columns=columns)\n",
    "for filename in filenames:\n",
    "    data = []\n",
    "    with open(filename,'rb') as fileObj: \n",
    "        pdfReader = PyPDF2.PdfFileReader(fileObj)\n",
    "        for page in range(pdfReader.getNumPages()):\n",
    "            text = pdfReader.getPage(page).extractText()\n",
    "            text = text.replace(\"\\n\",\"\")\n",
    "            text = text.replace(\"Longitude\",\"Longitude\"*6)\n",
    "            text = text.replace(\"Duration\",\"Duration\"*6)\n",
    "            data = re.findall(pat,text)\n",
    "            df_temp = pd.DataFrame() # empty temporary dataFrame\n",
    "            df_temp = df_temp.append(pd.DataFrame(data,columns=columns[:-2]),sort=False)\n",
    "            df_temp[\"DocName\"] = filename\n",
    "            df_temp[\"Page\"] = page + 1\n",
    "            df = df.append(df_temp) # append to main dataFrame\n",
    "            if not len(data):\n",
    "                print(filename,\" document has no Coordinates\")"
   ]
  },
  {
   "cell_type": "markdown",
   "metadata": {},
   "source": [
    "### Calculate coordinate into decimal degrees"
   ]
  },
  {
   "cell_type": "code",
   "execution_count": 15,
   "metadata": {},
   "outputs": [],
   "source": [
    "df.fillna(0, inplace=True)\n",
    "df.replace('',0,inplace=True)"
   ]
  },
  {
   "cell_type": "code",
   "execution_count": 16,
   "metadata": {},
   "outputs": [],
   "source": [
    "cols = ['DegY', 'MinY', 'SecY','DegX', 'MinX', 'SecX']\n",
    "for col in cols:\n",
    "    df[col] = pd.to_numeric(df[col],errors='coerce')"
   ]
  },
  {
   "cell_type": "code",
   "execution_count": 17,
   "metadata": {},
   "outputs": [],
   "source": [
    "df[\"ddY\"] = df['DegY'] + (df['MinY']/60) + (df['SecY']/3600)\n",
    "df[\"ddX\"] = df['DegX'] + (df['MinX']/60) + (df['SecX']/3600)"
   ]
  },
  {
   "cell_type": "code",
   "execution_count": 18,
   "metadata": {},
   "outputs": [],
   "source": [
    "df.to_csv(\"point.csv\")"
   ]
  },
  {
   "cell_type": "markdown",
   "metadata": {},
   "source": [
    "### Transform WGS84 to Timbalai 1948"
   ]
  },
  {
   "cell_type": "code",
   "execution_count": 19,
   "metadata": {},
   "outputs": [],
   "source": [
    "from pyproj import Proj, transform\n",
    "wgs84 = Proj('+proj=longlat +datum=WGS84 +no_defs')\n",
    "tim48 = Proj('+proj=longlat +ellps=evrstSS +towgs84=-533.4,669.2,-52.5,0.0,0.0,4.28,9.4 +no_defs')\n",
    "timUTM = Proj('+proj=utm +zone=49 +ellps=evrstSS +towgs84=-533.4,669.2,-52.5,0.0,0.0,4.28,9.4 +units=m +no_defs')\n",
    "wgsUTM = Proj('+proj=utm +zone=49 +datum=WGS84 +units=m +no_defs')"
   ]
  },
  {
   "cell_type": "code",
   "execution_count": 20,
   "metadata": {},
   "outputs": [],
   "source": [
    "X_,Y_ = transform(wgs84,tim48,df.ddX.values,df.ddY.values)\n",
    "df[\"ddY_tim\"],df[\"ddX_tim\"] = Y_,X_\n",
    "df1 = df.copy()\n",
    "df2 = df.copy()"
   ]
  },
  {
   "cell_type": "markdown",
   "metadata": {},
   "source": [
    "### Save the into ESRI Shapefiles"
   ]
  },
  {
   "cell_type": "code",
   "execution_count": 21,
   "metadata": {},
   "outputs": [],
   "source": [
    "import geopandas as gpd\n",
    "from shapely.geometry import Point"
   ]
  },
  {
   "cell_type": "code",
   "execution_count": 22,
   "metadata": {},
   "outputs": [],
   "source": [
    "df1['geometry'] = df.apply(lambda x : Point((float(x.ddX),float(x.ddY))),axis=1)\n",
    "df1 = gpd.GeoDataFrame(df1,geometry='geometry')\n",
    "df1.crs = '+proj=longlat +datum=WGS84 +no_defs'\n",
    "df1.to_file(\"Points_WGS84.shp\",driver='ESRI Shapefile')"
   ]
  },
  {
   "cell_type": "code",
   "execution_count": 23,
   "metadata": {},
   "outputs": [],
   "source": [
    "df2['geometry'] = df.apply(lambda x : Point((float(x.ddX_tim),float(x.ddY_tim))),axis=1)\n",
    "df2 = gpd.GeoDataFrame(df2,geometry='geometry')\n",
    "df2.crs = '+proj=longlat +ellps=evrstSS +towgs84=-533.4,669.2,-52.5,0.0,0.0,4.28,9.4 +no_defs'\n",
    "df2.to_file(\"Points_tim48.shp\",driver='ESRI Shapefile')"
   ]
  },
  {
   "cell_type": "code",
   "execution_count": 24,
   "metadata": {},
   "outputs": [
    {
     "data": {
      "text/plain": [
       "{'_is_copy': None, '_data': BlockManager\n",
       " Items: Index(['Name', 'DegY', 'MinY', 'SecY', 'SymY', 'DegX', 'MinX', 'SecX', 'SymX',\n",
       "        'DocName', 'Page', 'ddY', 'ddX', 'ddY_tim', 'ddX_tim', 'geometry'],\n",
       "       dtype='object')\n",
       " Axis 1: Int64Index([0, 1, 0, 1, 0, 0, 1, 0, 1, 2,\n",
       "             ...\n",
       "             1, 0, 0, 0, 0, 1, 0, 0, 0, 1],\n",
       "            dtype='int64', length=102)\n",
       " FloatBlock: [2, 3, 6, 7, 11, 12, 13, 14], 8 x 102, dtype: float64\n",
       " IntBlock: [1, 5, 10], 3 x 102, dtype: int64\n",
       " ObjectBlock: [0, 4, 8, 9, 15], 5 x 102, dtype: object, '_item_cache': {'geometry': 0    POINT (111.5999008333333 4.626460000000001)\n",
       "  1    POINT (111.5789236111111 4.607560833333333)\n",
       "  0             POINT (113.0755 3.159333333333334)\n",
       "  1                  POINT (111.6373333333333 4.5)\n",
       "  0    POINT (112.0658333333333 4.764166666666667)\n",
       "  0    POINT (112.0453388888889 3.792733333333333)\n",
       "  1    POINT (112.0659777777778 3.762805555555556)\n",
       "  0             POINT (113.6283166666667 4.553925)\n",
       "  1    POINT (113.6228972222222 4.545736111111111)\n",
       "  2    POINT (113.6321333333333 4.544397222222222)\n",
       "  0    POINT (113.4235455555556 4.782134722222223)\n",
       "  1    POINT (113.4280502777778 4.782118611111111)\n",
       "  2    POINT (113.4235613888889 4.786653888888889)\n",
       "  0    POINT (113.8026361111111 4.439952777777778)\n",
       "  0    POINT (113.8719052777778 4.707866666666667)\n",
       "  1    POINT (113.9597355555556 4.727821944444445)\n",
       "  2     POINT (113.9696772222222 4.68376388888889)\n",
       "  3    POINT (113.8818538888889 4.663806666666667)\n",
       "  0    POINT (112.3680102777778 3.602971944444445)\n",
       "  1    POINT (112.4124519444445 3.605334166666667)\n",
       "  2    POINT (112.3958894444444 3.593080277777778)\n",
       "  3    POINT (112.3822527777778 3.611997222222223)\n",
       "  4    POINT (112.3902866666667 3.601265833333334)\n",
       "  0    POINT (112.9383333333333 5.155833333333334)\n",
       "  1    POINT (112.8580555555556 5.308611111111111)\n",
       "  0             POINT (112.6322944444444 4.303275)\n",
       "  1              POINT (115.215 5.191666666666667)\n",
       "  0              POINT (115.205 5.201666666666667)\n",
       "  1    POINT (113.7989411111111 4.438679722222222)\n",
       "  0    POINT (113.7989411111111 4.438679722222222)\n",
       "                          ...                     \n",
       "  0              POINT (113.4926111111111 4.78675)\n",
       "  0    POINT (113.7469444444445 4.740277777777778)\n",
       "  1               POINT (103.9061111111111 1.4275)\n",
       "  0             POINT (112.5941111111111 3.473925)\n",
       "  0             POINT (113.6283166666667 4.553925)\n",
       "  0                POINT (111.6 4.643333333333334)\n",
       "  1               POINT (111.5788333333333 4.6075)\n",
       "  2    POINT (111.6133333333333 4.629166666666666)\n",
       "  0    POINT (113.8026361111111 4.439952777777778)\n",
       "  0    POINT (112.6197222222222 4.614999999999999)\n",
       "  1    POINT (112.3052777777778 4.638888888888888)\n",
       "  0             POINT (113.6283166666667 4.553925)\n",
       "  1    POINT (113.6228972222222 4.545736111111111)\n",
       "  2    POINT (113.6321333333333 4.544397222222222)\n",
       "  0           POINT (112.332425 5.375708333333333)\n",
       "  1    POINT (112.4988833333333 5.354186111111111)\n",
       "  2    POINT (112.3056722222222 5.363727777777777)\n",
       "  3    POINT (112.3944583333333 5.210338888888889)\n",
       "  0    POINT (112.4988888888889 5.354166666666666)\n",
       "  0                POINT (103.6541666666667 1.202)\n",
       "  1    POINT (111.9013333333333 4.229666666666667)\n",
       "  0           POINT (112.809925 3.246611111111111)\n",
       "  0    POINT (112.3944444444444 5.210333333333334)\n",
       "  0    POINT (113.8026361111111 4.439952777777778)\n",
       "  0              POINT (115.205 5.211666666666667)\n",
       "  1    POINT (112.3048419444444 4.516762222222222)\n",
       "  0                 POINT (111.9511111111111 5.42)\n",
       "  0           POINT (112.809925 3.246611111111111)\n",
       "  0    POINT (112.5283333333333 4.948055555555555)\n",
       "  1              POINT (115.195 5.201666666666667)\n",
       "  Name: geometry, Length: 102, dtype: object}, 'crs': '+proj=longlat +datum=WGS84 +no_defs', '_geometry_column_name': 'geometry', '_sindex': None, '_sindex_generated': False}"
      ]
     },
     "execution_count": 24,
     "metadata": {},
     "output_type": "execute_result"
    }
   ],
   "source": [
    "df1.__dict__"
   ]
  },
  {
   "cell_type": "code",
   "execution_count": 25,
   "metadata": {},
   "outputs": [
    {
     "data": {
      "text/html": [
       "<div>\n",
       "<style scoped>\n",
       "    .dataframe tbody tr th:only-of-type {\n",
       "        vertical-align: middle;\n",
       "    }\n",
       "\n",
       "    .dataframe tbody tr th {\n",
       "        vertical-align: top;\n",
       "    }\n",
       "\n",
       "    .dataframe thead th {\n",
       "        text-align: right;\n",
       "    }\n",
       "</style>\n",
       "<table border=\"1\" class=\"dataframe\">\n",
       "  <thead>\n",
       "    <tr style=\"text-align: right;\">\n",
       "      <th></th>\n",
       "      <th>Name</th>\n",
       "      <th>DegY</th>\n",
       "      <th>MinY</th>\n",
       "      <th>SecY</th>\n",
       "      <th>SymY</th>\n",
       "      <th>DegX</th>\n",
       "      <th>MinX</th>\n",
       "      <th>SecX</th>\n",
       "      <th>SymX</th>\n",
       "      <th>DocName</th>\n",
       "      <th>Page</th>\n",
       "      <th>ddY</th>\n",
       "      <th>ddX</th>\n",
       "      <th>ddY_tim</th>\n",
       "      <th>ddX_tim</th>\n",
       "      <th>geometry</th>\n",
       "    </tr>\n",
       "  </thead>\n",
       "  <tbody>\n",
       "    <tr>\n",
       "      <th>0</th>\n",
       "      <td>Patawali-2</td>\n",
       "      <td>4</td>\n",
       "      <td>37.00</td>\n",
       "      <td>35.256</td>\n",
       "      <td>N</td>\n",
       "      <td>111</td>\n",
       "      <td>35.00</td>\n",
       "      <td>59.643</td>\n",
       "      <td>E</td>\n",
       "      <td>892019%28T%29.pdf</td>\n",
       "      <td>1</td>\n",
       "      <td>4.626460</td>\n",
       "      <td>111.599901</td>\n",
       "      <td>4.627264</td>\n",
       "      <td>111.596462</td>\n",
       "      <td>POINT (111.5964622221384 4.627264416819839)</td>\n",
       "    </tr>\n",
       "    <tr>\n",
       "      <th>1</th>\n",
       "      <td>Patawali-3</td>\n",
       "      <td>4</td>\n",
       "      <td>36.00</td>\n",
       "      <td>27.219</td>\n",
       "      <td>N</td>\n",
       "      <td>111</td>\n",
       "      <td>34.00</td>\n",
       "      <td>44.125</td>\n",
       "      <td>E</td>\n",
       "      <td>892019%28T%29.pdf</td>\n",
       "      <td>1</td>\n",
       "      <td>4.607561</td>\n",
       "      <td>111.578924</td>\n",
       "      <td>4.608364</td>\n",
       "      <td>111.575482</td>\n",
       "      <td>POINT (111.575482358422 4.608363839876462)</td>\n",
       "    </tr>\n",
       "    <tr>\n",
       "      <th>0</th>\n",
       "      <td>From: Sg, Nyigu (Bintulu)</td>\n",
       "      <td>3</td>\n",
       "      <td>9.56</td>\n",
       "      <td>0.000</td>\n",
       "      <td>N</td>\n",
       "      <td>113</td>\n",
       "      <td>4.53</td>\n",
       "      <td>0.000</td>\n",
       "      <td>E</td>\n",
       "      <td>NPM312019(T).pdf</td>\n",
       "      <td>1</td>\n",
       "      <td>3.159333</td>\n",
       "      <td>113.075500</td>\n",
       "      <td>3.160036</td>\n",
       "      <td>113.072256</td>\n",
       "      <td>POINT (113.0722556895158 3.160036469366533)</td>\n",
       "    </tr>\n",
       "    <tr>\n",
       "      <th>1</th>\n",
       "      <td>Kayu Manis Oil-Field (Offshore Sarawak)</td>\n",
       "      <td>4</td>\n",
       "      <td>30.00</td>\n",
       "      <td>0.000</td>\n",
       "      <td>N</td>\n",
       "      <td>111</td>\n",
       "      <td>38.24</td>\n",
       "      <td>0.000</td>\n",
       "      <td>E</td>\n",
       "      <td>NPM312019(T).pdf</td>\n",
       "      <td>1</td>\n",
       "      <td>4.500000</td>\n",
       "      <td>111.637333</td>\n",
       "      <td>4.500796</td>\n",
       "      <td>111.633900</td>\n",
       "      <td>POINT (111.6338999356702 4.50079554037153)</td>\n",
       "    </tr>\n",
       "    <tr>\n",
       "      <th>0</th>\n",
       "      <td>D35R</td>\n",
       "      <td>4</td>\n",
       "      <td>45.00</td>\n",
       "      <td>51.000</td>\n",
       "      <td>N</td>\n",
       "      <td>112</td>\n",
       "      <td>3.00</td>\n",
       "      <td>57.000</td>\n",
       "      <td>E</td>\n",
       "      <td>NPM322019(T).pdf</td>\n",
       "      <td>1</td>\n",
       "      <td>4.764167</td>\n",
       "      <td>112.065833</td>\n",
       "      <td>4.764982</td>\n",
       "      <td>112.062454</td>\n",
       "      <td>POINT (112.0624543649082 4.764982379677904)</td>\n",
       "    </tr>\n",
       "  </tbody>\n",
       "</table>\n",
       "</div>"
      ],
      "text/plain": [
       "                                       Name  DegY   MinY    SecY SymY  DegX  \\\n",
       "0                               Patawali-2      4  37.00  35.256    N   111   \n",
       "1                               Patawali-3      4  36.00  27.219    N   111   \n",
       "0                From: Sg, Nyigu (Bintulu)      3   9.56   0.000    N   113   \n",
       "1  Kayu Manis Oil-Field (Offshore Sarawak)      4  30.00   0.000    N   111   \n",
       "0                                     D35R      4  45.00  51.000    N   112   \n",
       "\n",
       "    MinX    SecX SymX            DocName  Page       ddY         ddX  \\\n",
       "0  35.00  59.643    E  892019%28T%29.pdf     1  4.626460  111.599901   \n",
       "1  34.00  44.125    E  892019%28T%29.pdf     1  4.607561  111.578924   \n",
       "0   4.53   0.000    E   NPM312019(T).pdf     1  3.159333  113.075500   \n",
       "1  38.24   0.000    E   NPM312019(T).pdf     1  4.500000  111.637333   \n",
       "0   3.00  57.000    E   NPM322019(T).pdf     1  4.764167  112.065833   \n",
       "\n",
       "    ddY_tim     ddX_tim                                     geometry  \n",
       "0  4.627264  111.596462  POINT (111.5964622221384 4.627264416819839)  \n",
       "1  4.608364  111.575482   POINT (111.575482358422 4.608363839876462)  \n",
       "0  3.160036  113.072256  POINT (113.0722556895158 3.160036469366533)  \n",
       "1  4.500796  111.633900   POINT (111.6338999356702 4.50079554037153)  \n",
       "0  4.764982  112.062454  POINT (112.0624543649082 4.764982379677904)  "
      ]
     },
     "execution_count": 25,
     "metadata": {},
     "output_type": "execute_result"
    }
   ],
   "source": [
    "df2.head()"
   ]
  }
 ],
 "metadata": {
  "kernelspec": {
   "display_name": "Python 3",
   "language": "python",
   "name": "python3"
  },
  "language_info": {
   "codemirror_mode": {
    "name": "ipython",
    "version": 3
   },
   "file_extension": ".py",
   "mimetype": "text/x-python",
   "name": "python",
   "nbconvert_exporter": "python",
   "pygments_lexer": "ipython3",
   "version": "3.7.3"
  }
 },
 "nbformat": 4,
 "nbformat_minor": 4
}
